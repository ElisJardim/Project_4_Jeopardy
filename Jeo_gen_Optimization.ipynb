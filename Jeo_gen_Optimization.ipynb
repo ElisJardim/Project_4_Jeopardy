{
 "cells": [
  {
   "cell_type": "code",
   "execution_count": null,
   "metadata": {
    "colab": {
     "base_uri": "https://localhost:8080/"
    },
    "executionInfo": {
     "elapsed": 49113,
     "status": "ok",
     "timestamp": 1685906213726,
     "user": {
      "displayName": "Geetha Rajendram",
      "userId": "09983469856045175605"
     },
     "user_tz": 420
    },
    "id": "jTFne5rscPsw",
    "outputId": "e9f723bb-7a5f-4926-d854-ec9546873a4f"
   },
   "outputs": [],
   "source": [
    "import pandas as pd\n",
    "import tensorflow as tf\n",
    "from sklearn.model_selection import train_test_split\n",
    "from sklearn.preprocessing import StandardScaler\n",
    "from google.colab import drive\n",
    "drive.mount('/content/drive/')"
   ]
  },
  {
   "cell_type": "code",
   "execution_count": null,
   "metadata": {
    "colab": {
     "base_uri": "https://localhost:8080/",
     "height": 370
    },
    "executionInfo": {
     "elapsed": 165,
     "status": "ok",
     "timestamp": 1685901970037,
     "user": {
      "displayName": "Geetha Rajendram",
      "userId": "09983469856045175605"
     },
     "user_tz": 420
    },
    "id": "zh--_phviACn",
    "outputId": "4385e05f-d2e3-4074-a268-ba4e222fa165"
   },
   "outputs": [],
   "source": [
    "jeo_gen_df = pd.read_csv('./Resources/final_gender_jeop.csv')\n",
    "jeo_gen_df.head()"
   ]
  },
  {
   "cell_type": "code",
   "execution_count": null,
   "metadata": {
    "colab": {
     "base_uri": "https://localhost:8080/",
     "height": 370
    },
    "executionInfo": {
     "elapsed": 173,
     "status": "ok",
     "timestamp": 1685904087311,
     "user": {
      "displayName": "Geetha Rajendram",
      "userId": "09983469856045175605"
     },
     "user_tz": 420
    },
    "id": "_zKUpyspiEMy",
    "outputId": "8c714300-10ec-4f6a-f627-a5e8a472a8c0"
   },
   "outputs": [],
   "source": [
    "new_df = jeo_gen_df.drop(['First_Name','Last_Name','city','state','Year','Gender'], axis=1)\n",
    "new_df.head()"
   ]
  },
  {
   "cell_type": "code",
   "execution_count": null,
   "metadata": {
    "colab": {
     "base_uri": "https://localhost:8080/",
     "height": 500
    },
    "executionInfo": {
     "elapsed": 186,
     "status": "ok",
     "timestamp": 1685904117576,
     "user": {
      "displayName": "Geetha Rajendram",
      "userId": "09983469856045175605"
     },
     "user_tz": 420
    },
    "id": "NknDp11Ojptd",
    "outputId": "22c47124-89e5-43a7-bc58-70418f07eb92"
   },
   "outputs": [],
   "source": [
    "new_df_converted_to_numerical = pd.get_dummies(new_df)\n",
    "new_df_converted_to_numerical"
   ]
  },
  {
   "cell_type": "code",
   "execution_count": null,
   "metadata": {
    "executionInfo": {
     "elapsed": 398,
     "status": "ok",
     "timestamp": 1685904495544,
     "user": {
      "displayName": "Geetha Rajendram",
      "userId": "09983469856045175605"
     },
     "user_tz": 420
    },
    "id": "HW4ayufWuN-1"
   },
   "outputs": [],
   "source": [
    "# Split our preprocessed data into our features and target arrays\n",
    "X = new_df_converted_to_numerical.drop(['winner_flg'], axis =1)\n",
    "y = new_df_converted_to_numerical['winner_flg']\n",
    "\n",
    "# Split the preprocessed data into a training and testing dataset\n",
    "X_train, X_test, y_train, y_test = train_test_split(X,y,random_state=1, stratify= y)\n",
    "     "
   ]
  },
  {
   "cell_type": "code",
   "execution_count": null,
   "metadata": {
    "executionInfo": {
     "elapsed": 870,
     "status": "ok",
     "timestamp": 1685904543945,
     "user": {
      "displayName": "Geetha Rajendram",
      "userId": "09983469856045175605"
     },
     "user_tz": 420
    },
    "id": "N6Z17hfdvSjn"
   },
   "outputs": [],
   "source": [
    "# Create a StandardScaler instances\n",
    "scaler = StandardScaler()\n",
    "\n",
    "# Fit the StandardScaler\n",
    "X_scaler = scaler.fit(X_train)\n",
    "\n",
    "# Scale the data\n",
    "X_train_scaled = X_scaler.transform(X_train)\n",
    "X_test_scaled = X_scaler.transform(X_test)"
   ]
  },
  {
   "cell_type": "code",
   "execution_count": null,
   "metadata": {
    "executionInfo": {
     "elapsed": 186,
     "status": "ok",
     "timestamp": 1685904624273,
     "user": {
      "displayName": "Geetha Rajendram",
      "userId": "09983469856045175605"
     },
     "user_tz": 420
    },
    "id": "PwGUXM8avd7v"
   },
   "outputs": [],
   "source": [
    "#Define a process that creates a new Sequential model with hyperparameter options\n",
    "\n",
    "number_input_features = len(X_train_scaled[0])\n",
    "\n",
    "def create_model(hp):\n",
    "    nn_model = tf.keras.models.Sequential()\n",
    "\n",
    "    # Allow kerastuner to decide which activation function to use in hidden layers\n",
    "    activation = hp.Choice('activation',['relu','tanh', 'sigmoid'])\n",
    "    \n",
    "    # Allow kerastuner to decide number of neurons in first layer\n",
    "    nn_model.add(tf.keras.layers.Dense(units=hp.Int('first_units',\n",
    "        min_value=1,\n",
    "        max_value=100,\n",
    "        step=5), activation=activation, input_dim=number_input_features))\n",
    "\n",
    "    # Allow kerastuner to decide number of hidden layers and neurons in hidden layers\n",
    "    for i in range(hp.Int('num_layers', 1, 5)):\n",
    "        nn_model.add(tf.keras.layers.Dense(units=hp.Int('units_' + str(i),\n",
    "            min_value=1,\n",
    "            max_value=100,\n",
    "            step=5),\n",
    "            activation=activation))\n",
    "    \n",
    "    nn_model.add(tf.keras.layers.Dense(units=1, activation=\"sigmoid\"))\n",
    "\n",
    "    # Compile the model\n",
    "    nn_model.compile(loss=\"binary_crossentropy\", optimizer='adam', metrics=[\"accuracy\"])\n",
    "    \n",
    "    return nn_model"
   ]
  },
  {
   "cell_type": "code",
   "execution_count": null,
   "metadata": {
    "colab": {
     "base_uri": "https://localhost:8080/"
    },
    "executionInfo": {
     "elapsed": 21742,
     "status": "ok",
     "timestamp": 1685904683152,
     "user": {
      "displayName": "Geetha Rajendram",
      "userId": "09983469856045175605"
     },
     "user_tz": 420
    },
    "id": "gig6o_e0v14Z",
    "outputId": "c7074a26-26bd-472e-fa23-b2aa61273b24"
   },
   "outputs": [],
   "source": [
    "#Import kerastuner library and instantiate the tuner to perform the hypertuning.\n",
    "!pip install keras-tuner --upgrade\n",
    "import keras_tuner as kt\n",
    "tuner = kt.Hyperband(\n",
    "    create_model,\n",
    "    objective=\"val_accuracy\",\n",
    "    max_epochs=2,\n",
    "    hyperband_iterations=2)\n",
    "\n",
    "# Run the kerastuner search for best hyperparameters\n",
    "tuner.search(X_train_scaled,y_train,epochs=20,validation_data=(X_test_scaled,y_test))\n",
    "     "
   ]
  },
  {
   "cell_type": "code",
   "execution_count": null,
   "metadata": {
    "colab": {
     "base_uri": "https://localhost:8080/"
    },
    "executionInfo": {
     "elapsed": 192,
     "status": "ok",
     "timestamp": 1685904719259,
     "user": {
      "displayName": "Geetha Rajendram",
      "userId": "09983469856045175605"
     },
     "user_tz": 420
    },
    "id": "8z-_uyJXwDnM",
    "outputId": "5be4247d-117c-441e-f437-ad1503c2aec2"
   },
   "outputs": [],
   "source": [
    "#Print tuner results to determine the most accurate models to use on the test data\n",
    "tuner.results_summary(3)"
   ]
  },
  {
   "cell_type": "code",
   "execution_count": null,
   "metadata": {
    "colab": {
     "base_uri": "https://localhost:8080/"
    },
    "executionInfo": {
     "elapsed": 163,
     "status": "ok",
     "timestamp": 1685904786441,
     "user": {
      "displayName": "Geetha Rajendram",
      "userId": "09983469856045175605"
     },
     "user_tz": 420
    },
    "id": "diOJCbvXwMxP",
    "outputId": "28b1b014-ed5d-4b46-b1b8-30504ce92b46"
   },
   "outputs": [],
   "source": [
    "# Get top 3 model hyperparameters and print the values\n",
    "top_hyper = tuner.get_best_hyperparameters(3)\n",
    "for param in top_hyper:\n",
    "    print(param.values)\n"
   ]
  },
  {
   "cell_type": "code",
   "execution_count": null,
   "metadata": {
    "colab": {
     "base_uri": "https://localhost:8080/"
    },
    "executionInfo": {
     "elapsed": 2611,
     "status": "ok",
     "timestamp": 1685904835011,
     "user": {
      "displayName": "Geetha Rajendram",
      "userId": "09983469856045175605"
     },
     "user_tz": 420
    },
    "id": "her_rB8ewfO4",
    "outputId": "759f061b-a5df-4dc1-cd15-9a08ff4f8aa3"
   },
   "outputs": [],
   "source": [
    "# Evaluate the top 3 models against the test dataset\n",
    "top_model = tuner.get_best_models(3)\n",
    "for model in top_model:\n",
    "    model_loss, model_accuracy = model.evaluate(X_test_scaled,y_test,verbose=2)\n",
    "    print(f\"Loss: {model_loss}, Accuracy: {model_accuracy}\")"
   ]
  },
  {
   "cell_type": "code",
   "execution_count": null,
   "metadata": {
    "colab": {
     "base_uri": "https://localhost:8080/"
    },
    "executionInfo": {
     "elapsed": 399,
     "status": "ok",
     "timestamp": 1685905387155,
     "user": {
      "displayName": "Geetha Rajendram",
      "userId": "09983469856045175605"
     },
     "user_tz": 420
    },
    "id": "ZiTBJRRHxNk4",
    "outputId": "c6e5a102-e0b4-4b19-8071-0b62ed18b338"
   },
   "outputs": [],
   "source": [
    "# Define the model - deep neural net, i.e., the number of input features and hidden nodes for each layer.\n",
    "number_input_features = len(X_test_scaled[0])\n",
    "\n",
    "nn_model = tf.keras.models.Sequential()\n",
    "\n",
    "# First hidden layer \n",
    "nn_model.add(tf.keras.layers.Dense(units=81, activation=\"sigmoid\", input_dim=number_input_features))\n",
    "\n",
    "# Second hidden layer \n",
    "nn_model.add(tf.keras.layers.Dense(units=1, activation=\"sigmoid\"))\n",
    "\n",
    "# Third hidden layer -- Changed the activation functiom from \"Relu\" to \"tanh\" (Model Optimization Method 2)\n",
    "nn_model.add(tf.keras.layers.Dense(units=1, activation=\"sigmoid\"))\n",
    "\n",
    "# Fourth hidden layer -- Changed the activation functiom from \"Relu\" to \"tanh\" (Model Optimization Method 2)\n",
    "nn_model.add(tf.keras.layers.Dense(units=1, activation=\"sigmoid\"))\n",
    "\n",
    "\n",
    "# Output layer\n",
    "nn_model.add(tf.keras.layers.Dense(units=1, activation=\"sigmoid\"))\n",
    "\n",
    "# Check the structure of the model\n",
    "nn_model.summary()\n",
    "     \n",
    "     "
   ]
  },
  {
   "cell_type": "code",
   "execution_count": null,
   "metadata": {
    "colab": {
     "base_uri": "https://localhost:8080/"
    },
    "executionInfo": {
     "elapsed": 26245,
     "status": "ok",
     "timestamp": 1685905643050,
     "user": {
      "displayName": "Geetha Rajendram",
      "userId": "09983469856045175605"
     },
     "user_tz": 420
    },
    "id": "SOt8nmBqysjw",
    "outputId": "ad2727cc-8bf9-4bef-f63a-b125174fb719"
   },
   "outputs": [],
   "source": [
    "# Compile the model\n",
    "nn_model.compile(loss=\"binary_crossentropy\", optimizer=\"adam\", metrics=[\"accuracy\"])\n",
    "\n",
    "#Reduced number of epochs from 100 to 50 for better optimization (Model Optimization Method 3)\n",
    "fit_model = nn_model.fit(X_test_scaled, y_test, epochs=100) "
   ]
  },
  {
   "cell_type": "code",
   "execution_count": null,
   "metadata": {
    "colab": {
     "base_uri": "https://localhost:8080/"
    },
    "executionInfo": {
     "elapsed": 650,
     "status": "ok",
     "timestamp": 1685906059846,
     "user": {
      "displayName": "Geetha Rajendram",
      "userId": "09983469856045175605"
     },
     "user_tz": 420
    },
    "id": "3z7VRvO2zXA9",
    "outputId": "b9bc7bb0-63a4-4647-db83-b162fb0a6c15"
   },
   "outputs": [],
   "source": [
    "# Evaluate the model using the test data\n",
    "model_loss, model_accuracy = nn_model.evaluate(X_test_scaled,y_test,verbose=2)\n",
    "print(f\"Loss: {model_loss}, Accuracy: {model_accuracy}\")"
   ]
  },
  {
   "cell_type": "code",
   "execution_count": null,
   "metadata": {
    "executionInfo": {
     "elapsed": 181,
     "status": "ok",
     "timestamp": 1685908947925,
     "user": {
      "displayName": "Geetha Rajendram",
      "userId": "09983469856045175605"
     },
     "user_tz": 420
    },
    "id": "82xUMAsw165q"
   },
   "outputs": [],
   "source": [
    "# Export this model to HDF5\n",
    "filename = '/content/drive/MyDrive/Jeopardy_Gender_Optimization.h5'\n",
    "nn_model.save(filename)"
   ]
  }
 ],
 "metadata": {
  "colab": {
   "authorship_tag": "ABX9TyOLdW/IhW5kwv0bKNUtIjDC",
   "provenance": []
  },
  "kernelspec": {
   "display_name": "Python 3 (ipykernel)",
   "language": "python",
   "name": "python3"
  },
  "language_info": {
   "codemirror_mode": {
    "name": "ipython",
    "version": 3
   },
   "file_extension": ".py",
   "mimetype": "text/x-python",
   "name": "python",
   "nbconvert_exporter": "python",
   "pygments_lexer": "ipython3",
   "version": "3.9.13"
  }
 },
 "nbformat": 4,
 "nbformat_minor": 1
}
