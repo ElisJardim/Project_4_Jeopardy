{
 "cells": [
  {
   "cell_type": "code",
   "execution_count": null,
   "metadata": {
    "executionInfo": {
     "elapsed": 240,
     "status": "ok",
     "timestamp": 1685894967992,
     "user": {
      "displayName": "Geetha Rajendram",
      "userId": "09983469856045175605"
     },
     "user_tz": 420
    },
    "id": "ex2Y8on7HJyb"
   },
   "outputs": [],
   "source": [
    "import pandas as pd\n",
    "import tensorflow as tf\n",
    "from sklearn.model_selection import train_test_split\n",
    "from sklearn.preprocessing import StandardScaler\n"
   ]
  },
  {
   "cell_type": "code",
   "execution_count": null,
   "metadata": {
    "colab": {
     "base_uri": "https://localhost:8080/",
     "height": 370
    },
    "executionInfo": {
     "elapsed": 161,
     "status": "ok",
     "timestamp": 1685896699301,
     "user": {
      "displayName": "Geetha Rajendram",
      "userId": "09983469856045175605"
     },
     "user_tz": 420
    },
    "id": "8uYuLgPeK7_j",
    "outputId": "34b92e77-56e3-47c7-92ae-1fe36404ab26"
   },
   "outputs": [],
   "source": [
    "jeo_gen_df = pd.read_csv('./Resources/final_gender_jeop.csv')\n",
    "jeo_gen_df.head()"
   ]
  },
  {
   "cell_type": "code",
   "execution_count": null,
   "metadata": {
    "colab": {
     "base_uri": "https://localhost:8080/",
     "height": 500
    },
    "executionInfo": {
     "elapsed": 188,
     "status": "ok",
     "timestamp": 1685898569085,
     "user": {
      "displayName": "Geetha Rajendram",
      "userId": "09983469856045175605"
     },
     "user_tz": 420
    },
    "id": "HETfaw4PX6FB",
    "outputId": "20e0a243-486d-4fa2-d78a-c22e9cb16d6d"
   },
   "outputs": [],
   "source": [
    "jeo_gen_df_converted_to_numerical = pd.get_dummies(jeo_gen_df)\n",
    "jeo_gen_df_converted_to_numerical"
   ]
  },
  {
   "cell_type": "code",
   "execution_count": null,
   "metadata": {
    "executionInfo": {
     "elapsed": 185,
     "status": "ok",
     "timestamp": 1685898636900,
     "user": {
      "displayName": "Geetha Rajendram",
      "userId": "09983469856045175605"
     },
     "user_tz": 420
    },
    "id": "MubrkakcRrZF"
   },
   "outputs": [],
   "source": [
    "#Training the model with random forest to check feature importance\n",
    "from sklearn.ensemble import RandomForestClassifier\n",
    "from sklearn.preprocessing import LabelEncoder\n",
    "\n",
    "#Encode categorical columns\n",
    "categorical_columns = ['full_name','occupation','city','state',\n",
    "                       'show_number','date','final_score','Gender']\n",
    "\n",
    "for column in categorical_columns:\n",
    "  label_encoder = LabelEncoder()\n",
    "  jeo_gen_df_converted_to_numerical[column] = label_encoder.fit_transform(jeo_gen_df_converted_to_numerical[column])\n",
    "\n",
    "#Seperate features and target\n",
    "X = jeo_gen_df_converted_to_numerical.drop('winner_flg', axis=1)\n",
    "y = jeo_gen_df_converted_to_numerical['winner_flg']\n",
    "\n",
    "#Split the data into training and testing sets\n",
    "X_train, X_test, y_train, y_test = train_test_split(X,y,test_size=0.2, random_state=42)\n"
   ]
  },
  {
   "cell_type": "code",
   "execution_count": null,
   "metadata": {
    "colab": {
     "base_uri": "https://localhost:8080/",
     "height": 514
    },
    "executionInfo": {
     "elapsed": 3343,
     "status": "ok",
     "timestamp": 1685898775717,
     "user": {
      "displayName": "Geetha Rajendram",
      "userId": "09983469856045175605"
     },
     "user_tz": 420
    },
    "id": "Ng0y-J6VVN19",
    "outputId": "3569ac26-72c6-4116-dd62-73763c3f278a"
   },
   "outputs": [],
   "source": [
    "#Train the random forest classifier\n",
    "rf_clf = RandomForestClassifier(n_estimators=100, random_state=42)\n",
    "rf_clf.fit(X_train, y_train)\n",
    "\n",
    "#Get feature importances\n",
    "importances = rf_clf.feature_importances_\n",
    "\n",
    "#Create a df to display feature importances\n",
    "feature_importances_df = pd.DataFrame({'Feature': X.columns, 'Importance': importances})\n",
    "feature_importances_df = feature_importances_df.sort_values(by='Importance', ascending=False)\n",
    "\n",
    "#Display Feature Importance\n",
    "feature_importances_df.head(15)"
   ]
  }
 ],
 "metadata": {
  "colab": {
   "authorship_tag": "ABX9TyPA3x/6d2N9L+t6/3TLoPe2",
   "provenance": []
  },
  "kernelspec": {
   "display_name": "Python 3 (ipykernel)",
   "language": "python",
   "name": "python3"
  },
  "language_info": {
   "codemirror_mode": {
    "name": "ipython",
    "version": 3
   },
   "file_extension": ".py",
   "mimetype": "text/x-python",
   "name": "python",
   "nbconvert_exporter": "python",
   "pygments_lexer": "ipython3",
   "version": "3.9.13"
  }
 },
 "nbformat": 4,
 "nbformat_minor": 1
}
