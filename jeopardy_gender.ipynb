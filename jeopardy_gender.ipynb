{
 "cells": [
  {
   "cell_type": "code",
   "execution_count": null,
   "id": "663ad830",
   "metadata": {},
   "outputs": [],
   "source": [
    "# Importing dependencies\n",
    "import pandas as pd\n",
    "import numpy as np\n",
    "import datetime\n",
    "import findspark\n",
    "findspark.init()\n",
    "from pyspark.sql import SparkSession\n",
    "import time\n",
    "import gender_guesser.detector as gender\n",
    "import matplotlib.pyplot as plt\n",
    "import seaborn as sns"
   ]
  },
  {
   "cell_type": "code",
   "execution_count": null,
   "id": "e9a6cf7c",
   "metadata": {},
   "outputs": [],
   "source": [
    "#Reading data from csv\n",
    "df = pd.read_csv('./Resources/names_cleaned_data.csv')\n",
    "df.head()"
   ]
  },
  {
   "cell_type": "code",
   "execution_count": null,
   "id": "b9ee484c",
   "metadata": {},
   "outputs": [],
   "source": [
    "# Cleaning up show number, dropping dt_indx\n",
    "df['show_number'] = df['archive_info'].str.replace(r'\\D','')\n",
    "df = df.drop(['archive_info', 'dt_indx'], axis = 1)\n",
    "df.head()"
   ]
  },
  {
   "cell_type": "code",
   "execution_count": null,
   "id": "f55de099",
   "metadata": {},
   "outputs": [],
   "source": [
    "#Creating First Name and Last Name columns from full name\n",
    "df[['First_Name', 'Last_Name','X']]= df.full_name.str.split(' ', expand=True)\n",
    "df.head() \n"
   ]
  },
  {
   "cell_type": "code",
   "execution_count": null,
   "id": "d41264ea",
   "metadata": {},
   "outputs": [],
   "source": [
    "#Re-arranging columns\n",
    "df_ref = df[['full_name','First_Name','Last_Name','occupation','city','state','show_number','date','winner_flg','final_score']]\n",
    "df_ref"
   ]
  },
  {
   "cell_type": "code",
   "execution_count": null,
   "id": "33a18bb2",
   "metadata": {},
   "outputs": [],
   "source": [
    "# Using gender detector to classify contestants into male and female using their first name\n",
    "gd = gender.Detector()\n",
    "df_ref['Gender'] = df_ref['First_Name'].apply(gd.get_gender)\n",
    "df_ref.head()"
   ]
  },
  {
   "cell_type": "code",
   "execution_count": null,
   "id": "213c831f",
   "metadata": {},
   "outputs": [],
   "source": [
    "# Adding mostly male to male and mostly female to female based on visual inspection\n",
    "df2 = df_ref.replace('mostly_male', 'male')\n",
    "df3 = df2.replace('mostly_female', 'female')"
   ]
  },
  {
   "cell_type": "code",
   "execution_count": null,
   "id": "58bde43d",
   "metadata": {},
   "outputs": [],
   "source": [
    "#Checking for total numbers - especially unknown and andy\n",
    "print(df3['Gender'].value_counts()['male'])\n",
    "print(df3['Gender'].value_counts()['female'])\n",
    "print(df3['Gender'].value_counts()['unknown'])\n",
    "print(df3['Gender'].value_counts()['andy'])\n",
    "\n"
   ]
  },
  {
   "cell_type": "code",
   "execution_count": null,
   "id": "f1199bad",
   "metadata": {},
   "outputs": [],
   "source": [
    "#Dropping rows classified as unknown gender\n",
    "df4 = df3[(df3['Gender'] == 'unknown')].index\n",
    "df3.drop(df4, inplace = True)\n",
    "len(df3)\n"
   ]
  },
  {
   "cell_type": "code",
   "execution_count": null,
   "id": "97f11db1",
   "metadata": {},
   "outputs": [],
   "source": [
    "#Dropping rows classified as andy gender\n",
    "df5 = df3[(df3['Gender'] == 'andy')].index\n",
    "df3.drop(df5, inplace = True)\n",
    "len(df3)"
   ]
  },
  {
   "cell_type": "code",
   "execution_count": null,
   "id": "773bd8be",
   "metadata": {},
   "outputs": [],
   "source": [
    "#Final dataframe\n",
    "df3.head()"
   ]
  },
  {
   "cell_type": "code",
   "execution_count": null,
   "id": "4836d879",
   "metadata": {},
   "outputs": [],
   "source": [
    "print(df3.dtypes)"
   ]
  },
  {
   "cell_type": "code",
   "execution_count": null,
   "id": "6c5f0a4f",
   "metadata": {},
   "outputs": [],
   "source": [
    "# Changing date format to YYYY-MM-DD\n",
    "df3['date'] = pd.to_datetime(df3['date'])\n"
   ]
  },
  {
   "cell_type": "code",
   "execution_count": null,
   "id": "884c917f",
   "metadata": {},
   "outputs": [],
   "source": [
    "#Extracting year from date and adding into a new Year column\n",
    "df3['Year'] = df3['date'].dt.strftime('%Y')\n"
   ]
  },
  {
   "cell_type": "code",
   "execution_count": null,
   "id": "3204486e",
   "metadata": {},
   "outputs": [],
   "source": [
    "# We only have 3 rows from 2012. Dropping all 3\n",
    "df6 = df3[(df3['Year'] == '2012')].index\n",
    "df3.drop(df6, inplace = True)\n",
    "df3.head()"
   ]
  },
  {
   "cell_type": "code",
   "execution_count": null,
   "id": "ad816584",
   "metadata": {},
   "outputs": [],
   "source": [
    "#Creating flag_female and flag_male columns from Gender column\n",
    "df4 = df3.join(df3['Gender'].str.split().explode().reset_index().assign(count=1)\n",
    "               .pivot_table('count','index','Gender', fill_value=0)\n",
    "               .add_prefix('flag_'))\n",
    "df4"
   ]
  },
  {
   "cell_type": "code",
   "execution_count": null,
   "id": "6a399217",
   "metadata": {},
   "outputs": [],
   "source": [
    "#Total number of conyestants(individual)\n",
    "df4['full_name'].nunique()"
   ]
  },
  {
   "cell_type": "code",
   "execution_count": null,
   "id": "78a8ffef",
   "metadata": {},
   "outputs": [],
   "source": [
    "once_df = df4.drop_duplicates(subset='full_name', keep='first')\n",
    "once_df.head()"
   ]
  },
  {
   "cell_type": "code",
   "execution_count": null,
   "id": "7cbbae30",
   "metadata": {},
   "outputs": [],
   "source": [
    "len(once_df)"
   ]
  },
  {
   "cell_type": "code",
   "execution_count": null,
   "id": "3a23954c",
   "metadata": {},
   "outputs": [],
   "source": [
    "men_df = once_df.loc[once_df['Gender'] == 'male']\n",
    "len(men_df)\n"
   ]
  },
  {
   "cell_type": "code",
   "execution_count": null,
   "id": "24b1c83b",
   "metadata": {},
   "outputs": [],
   "source": [
    "women_df = once_df.loc[once_df['Gender'] == 'female']\n",
    "len(women_df)\n"
   ]
  },
  {
   "cell_type": "code",
   "execution_count": null,
   "id": "fdf95e8e",
   "metadata": {},
   "outputs": [],
   "source": [
    "gen_pie = pd.DataFrame({'Gender': ['Men','Women'],\n",
    "                        'Count': [len(men_df), len(women_df)]},\n",
    "                      index=['Men','Women'])\n",
    "\n",
    "gen_pie.plot.pie(y='Count', title='Participants')\n"
   ]
  },
  {
   "cell_type": "code",
   "execution_count": null,
   "id": "6bad20b8",
   "metadata": {},
   "outputs": [],
   "source": [
    "#Storing away a copy of the dataframe\n",
    "jeo_df = df4.copy()"
   ]
  },
  {
   "cell_type": "code",
   "execution_count": null,
   "id": "00dfe071",
   "metadata": {},
   "outputs": [],
   "source": [
    "df4.to_csv('myjeopardy.csv')"
   ]
  },
  {
   "cell_type": "code",
   "execution_count": null,
   "id": "8a5db934",
   "metadata": {},
   "outputs": [],
   "source": [
    "# Starting a spark session\n",
    "spark = SparkSession.builder.appName(\"PandasToSparkDF\").getOrCreate()\n",
    "df_spark = spark.createDataFrame(df4)\n",
    "df_spark.show()"
   ]
  },
  {
   "cell_type": "code",
   "execution_count": null,
   "id": "ee9443ba",
   "metadata": {},
   "outputs": [],
   "source": [
    "# Creating a temporary view\n",
    "df_spark.createOrReplaceTempView('gen_comp')\n",
    "gen_num = spark.sql(\"\"\"\n",
    "SELECT COUNT(full_name) AS Contestants, Gender\n",
    "FROM gen_comp\n",
    "GROUP BY Gender;\n",
    "\"\"\").toPandas()\n",
    "gen_num"
   ]
  },
  {
   "cell_type": "code",
   "execution_count": null,
   "id": "38e0600b",
   "metadata": {},
   "outputs": [],
   "source": [
    "gen_num.plot(kind='bar')"
   ]
  },
  {
   "cell_type": "code",
   "execution_count": null,
   "id": "2668f066",
   "metadata": {},
   "outputs": [],
   "source": [
    "#Plotting bar graph of female vs male contestants\n",
    "plt.figure(figsize=(8,6))\n",
    "plots = sns.barplot(x='Gender',y='Contestants',data=gen_num)\n",
    "plt.xlabel('Gender', size=15)\n",
    "plt.ylabel('Number of Games', size=15)\n",
    "plt.title('Number of games played (from 2014 to 2019)')\n",
    "plt.show()"
   ]
  },
  {
   "cell_type": "code",
   "execution_count": null,
   "id": "2f11864b",
   "metadata": {},
   "outputs": [],
   "source": [
    "# Querying number of male contestants for each year\n",
    "male_year_df = spark.sql(\"\"\"\n",
    "SELECT Year, COUNT(flag_male) AS Male\n",
    "FROM gen_comp\n",
    "WHERE flag_male ==1\n",
    "GROUP BY Year\n",
    "ORDER BY Year ASC;\n",
    "\"\"\").toPandas()\n",
    "male_year_df"
   ]
  },
  {
   "cell_type": "code",
   "execution_count": null,
   "id": "a210b52f",
   "metadata": {},
   "outputs": [],
   "source": [
    "# Querying number of female contestants for each year\n",
    "female_year_df = spark.sql(\"\"\"\n",
    "SELECT Year, COUNT(flag_female) AS Female\n",
    "FROM gen_comp\n",
    "WHERE flag_female ==1\n",
    "GROUP BY Year\n",
    "ORDER BY Year ASC;\n",
    "\"\"\").toPandas()\n",
    "female_year_df"
   ]
  },
  {
   "cell_type": "code",
   "execution_count": null,
   "id": "4ea4a5eb",
   "metadata": {},
   "outputs": [],
   "source": [
    "# Comparing male vs female contestants each year\n",
    "year_df = pd.merge(male_year_df, female_year_df, on = ['Year'])\n",
    "year_df"
   ]
  },
  {
   "cell_type": "code",
   "execution_count": null,
   "id": "00adb2ca",
   "metadata": {},
   "outputs": [],
   "source": [
    "# Plotting male vs female contestant participang each year\n",
    "year_df.plot(x='Year', y=['Male', 'Female'], kind='bar')\n",
    "plt.title('Men vs Women Contestants')\n",
    "plt.ylabel('Number of Games played')\n"
   ]
  },
  {
   "cell_type": "code",
   "execution_count": null,
   "id": "4768a07c",
   "metadata": {},
   "outputs": [],
   "source": [
    "year_df.plot(x='Year')\n",
    "plt.xlabel('Year')\n",
    "plt.ylabel('Number of Games played')\n",
    "plt.title('Men vs Women Contestants')"
   ]
  },
  {
   "cell_type": "code",
   "execution_count": null,
   "id": "8ad8c874",
   "metadata": {},
   "outputs": [],
   "source": [
    "# Querying total winners by gender\n",
    "win_df = spark.sql(\"\"\"\n",
    "SELECT COUNT(full_name) AS Winners, Gender\n",
    "FROM gen_comp\n",
    "WHERE winner_flg ==1\n",
    "GROUP BY Gender\n",
    "\n",
    "\"\"\").toPandas()\n",
    "win_df"
   ]
  },
  {
   "cell_type": "code",
   "execution_count": null,
   "id": "c658263a",
   "metadata": {},
   "outputs": [],
   "source": [
    "# Plotting male vs female winners\n",
    "Gender = win_df['Gender']\n",
    "Winners = win_df['Winners']\n",
    "fig = plt.figure(figsize = (8,5))\n",
    "plt.bar(Gender,Winners, width = 0.5)\n",
    "plt.title('Winners (from 2014 to 2019)')\n",
    "plt.ylabel('Number of games won')\n",
    "plt.show()"
   ]
  },
  {
   "cell_type": "code",
   "execution_count": null,
   "id": "5a4b3aae",
   "metadata": {},
   "outputs": [],
   "source": [
    "#Plotting male vs female winners total\n",
    "def addlabels(x,y):\n",
    "    for i in range(len(x)):\n",
    "        plt.text(i,y[i],y[i])\n",
    "        \n",
    "x = win_df['Gender']\n",
    "y = win_df['Winners']\n",
    "fig = plt.figure(figsize = (10,7))\n",
    "plt.bar(x,y, width = 0.5)\n",
    "addlabels(x,y)\n",
    "plt.title('Winners (from 2014 to 2019)')\n",
    "plt.xlabel('Gender')\n",
    "plt.ylabel('Number of Games won')\n",
    "plt.show()"
   ]
  },
  {
   "cell_type": "code",
   "execution_count": null,
   "id": "6c8a8b27",
   "metadata": {},
   "outputs": [],
   "source": [
    "#Querying number of female winners each year\n",
    "win_female_year_df = spark.sql(\"\"\"\n",
    "SELECT Year, COUNT(flag_female) AS Female\n",
    "FROM gen_comp\n",
    "WHERE flag_female ==1 AND winner_flg ==1\n",
    "GROUP BY Year\n",
    "ORDER BY Year ASC;\n",
    "\"\"\").toPandas()\n",
    "win_female_year_df"
   ]
  },
  {
   "cell_type": "code",
   "execution_count": null,
   "id": "c42412af",
   "metadata": {},
   "outputs": [],
   "source": [
    "#Querying number of male winners each year\n",
    "win_male_year_df = spark.sql(\"\"\"\n",
    "SELECT Year, COUNT(flag_male) AS Male\n",
    "FROM gen_comp\n",
    "WHERE flag_male ==1 AND winner_flg ==1\n",
    "GROUP BY Year\n",
    "ORDER BY Year ASC;\n",
    "\"\"\").toPandas()\n",
    "win_male_year_df"
   ]
  },
  {
   "cell_type": "code",
   "execution_count": null,
   "id": "f2ce0f4a",
   "metadata": {},
   "outputs": [],
   "source": [
    "low_score_df = spark.sql(\"\"\"\n",
    "SELECT full_name AS Name, SUM(final_score) AS Score\n",
    "FROM gen_comp\n",
    "GROUP BY full_name\n",
    "ORDER BY Score ASC;\n",
    "\"\"\").toPandas()\n",
    "low_sc_df=low_score_df.iloc[:10]\n",
    "low_sc_df"
   ]
  },
  {
   "cell_type": "code",
   "execution_count": null,
   "id": "fda729f5",
   "metadata": {},
   "outputs": [],
   "source": [
    "low_sc_df.plot(kind='barh')"
   ]
  },
  {
   "cell_type": "code",
   "execution_count": null,
   "id": "2ccd121a",
   "metadata": {},
   "outputs": [],
   "source": [
    "high_score_df = spark.sql(\"\"\"\n",
    "SELECT full_name AS Name, SUM(final_score) AS Score\n",
    "FROM gen_comp\n",
    "GROUP BY full_name\n",
    "ORDER BY Score DESC;\n",
    "\"\"\").toPandas()\n",
    "high_sc_df= high_score_df.iloc[:10]\n",
    "high_sc_df"
   ]
  },
  {
   "cell_type": "code",
   "execution_count": null,
   "id": "6fa63e47",
   "metadata": {},
   "outputs": [],
   "source": [
    "high_sc_df.plot(kind='barh')\n",
    "plt.title('Highest Scorers')\n",
    "plt.xlabel('Points scored')\n",
    "plt.ylabel('Contestants')"
   ]
  },
  {
   "cell_type": "code",
   "execution_count": null,
   "id": "55ce9c1c",
   "metadata": {},
   "outputs": [],
   "source": [
    "win_year_df = pd.merge(win_female_year_df, win_male_year_df,on='Year')\n",
    "win_year_df"
   ]
  },
  {
   "cell_type": "code",
   "execution_count": null,
   "id": "7cbba059",
   "metadata": {},
   "outputs": [],
   "source": [
    "win_year_df.plot(x='Year', y=['Male', 'Female'], kind='bar')\n",
    "plt.title('Men vs Women Winners')\n",
    "plt.ylabel('Number of Winners')"
   ]
  },
  {
   "cell_type": "code",
   "execution_count": null,
   "id": "74fa9c12",
   "metadata": {},
   "outputs": [],
   "source": [
    "win_year_df.plot(x='Year')\n",
    "plt.xlabel('Year')\n",
    "plt.ylabel('Number of Winners')\n",
    "plt.title('Men vs Women Winners')"
   ]
  },
  {
   "cell_type": "code",
   "execution_count": null,
   "id": "24984030",
   "metadata": {},
   "outputs": [],
   "source": [
    "print(df4.First_Name.value_counts())"
   ]
  },
  {
   "cell_type": "code",
   "execution_count": null,
   "id": "ca4e6b6a",
   "metadata": {},
   "outputs": [],
   "source": [
    "df5 = df4['full_name'].unique()\n",
    "names_df = pd.DataFrame(df5, columns=['Names'])\n",
    "names_df"
   ]
  },
  {
   "cell_type": "code",
   "execution_count": null,
   "id": "5714e64f",
   "metadata": {},
   "outputs": [],
   "source": [
    "names_df[['First_Name', 'Last_Name','X']]= names_df.Names.str.split(' ', expand=True)\n",
    "names_df"
   ]
  },
  {
   "cell_type": "code",
   "execution_count": null,
   "id": "cdfd89f5",
   "metadata": {},
   "outputs": [],
   "source": [
    "pop_names = names_df['First_Name'].value_counts()\n",
    "pop_names_df = pop_names.to_frame()\n",
    "pop_names_df.reset_index(inplace=True)\n",
    "pop_names_df = pop_names_df.rename(columns={'index':'Contestant First_name', \n",
    "                                            'First_Name': 'Occurences'})\n",
    "pop_names_df.head(10)\n"
   ]
  },
  {
   "cell_type": "code",
   "execution_count": null,
   "id": "4206ce11",
   "metadata": {
    "scrolled": true
   },
   "outputs": [],
   "source": [
    "winners_df = df4.loc[df4['winner_flg']==1]\n",
    "winners_df"
   ]
  },
  {
   "cell_type": "code",
   "execution_count": null,
   "id": "a4927f35",
   "metadata": {},
   "outputs": [],
   "source": [
    "win_names = winners_df['full_name'].unique()\n",
    "win_names_df = pd.DataFrame(win_names, columns=['Winames'])\n",
    "win_names_df[['First_Name', 'Last_Name','X']]= win_names_df.Winames.str.split(' ', expand=True)\n",
    "win_names_df\n"
   ]
  },
  {
   "cell_type": "code",
   "execution_count": null,
   "id": "59900ee3",
   "metadata": {},
   "outputs": [],
   "source": [
    "pop_winner_names = win_names_df['First_Name'].value_counts()\n",
    "pop_winner_names_df = pop_winner_names.to_frame()\n",
    "pop_winner_names_df.reset_index(inplace=True)\n",
    "pop_winner_names_df = pop_winner_names_df.rename(columns={'index':'Winner First_name', \n",
    "                                            'First_Name': 'Occurences'})\n",
    "pop_winner_names_df.head(10)"
   ]
  },
  {
   "cell_type": "code",
   "execution_count": null,
   "id": "adf58229",
   "metadata": {},
   "outputs": [],
   "source": [
    "pop_win = pop_winner_names_df.iloc[:10]\n",
    "#pop_win\n",
    "#pop_win.plot(kind='pie', y = 'Occurences')\n",
    "pop_win.style.background_gradient(cmap='viridis')\\\n",
    "                              .set_properties(**{'font-size':'20px'})"
   ]
  },
  {
   "cell_type": "code",
   "execution_count": null,
   "id": "541fee2d",
   "metadata": {},
   "outputs": [],
   "source": [
    "pop_winner_last_names = win_names_df['Last_Name'].value_counts()\n",
    "pop_winner_last_names_df = pop_winner_last_names.to_frame()\n",
    "pop_winner_last_names_df.reset_index(inplace=True)\n",
    "pop_winner_last_names_df = pop_winner_last_names_df.rename(columns={'index':'Winner Last_name', \n",
    "                                            'Last_Name': 'Occurences'})\n",
    "pop_win_last=pop_winner_last_names_df.iloc[:10]\n",
    "pop_win_last.style.background_gradient(cmap='viridis')\\\n",
    "                              .set_properties(**{'font-size':'20px'})"
   ]
  },
  {
   "cell_type": "code",
   "execution_count": null,
   "id": "a60fa889",
   "metadata": {},
   "outputs": [],
   "source": [
    "jeo_df.head()"
   ]
  },
  {
   "cell_type": "code",
   "execution_count": null,
   "id": "a3271ac3",
   "metadata": {},
   "outputs": [],
   "source": [
    "jeo_df. to_csv('final_gender_jeop.csv')"
   ]
  },
  {
   "cell_type": "code",
   "execution_count": null,
   "id": "e803f7d3",
   "metadata": {},
   "outputs": [],
   "source": []
  }
 ],
 "metadata": {
  "kernelspec": {
   "display_name": "PythonData",
   "language": "python",
   "name": "pythondata"
  },
  "language_info": {
   "codemirror_mode": {
    "name": "ipython",
    "version": 3
   },
   "file_extension": ".py",
   "mimetype": "text/x-python",
   "name": "python",
   "nbconvert_exporter": "python",
   "pygments_lexer": "ipython3",
   "version": "3.7.7"
  }
 },
 "nbformat": 4,
 "nbformat_minor": 5
}
